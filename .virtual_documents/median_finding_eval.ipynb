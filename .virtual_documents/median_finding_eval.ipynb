import numpy as np
import pandas as pd
import matplotlib.pyplot as plt
import seaborn as sns





# Set seed
rand_seed = 314
# Global parameters
num_simulations = 10000 # num sims per sample_size
median = 0
estimated_sample_sizes = range(2, 6)
# Regularize distribution w/ variance=1 and center/mean/median=0
get_samples_fn = lambda n: np.random.normal(loc=0, scale=1, size=n)
dist_name = "Normal Dist."

def simulate_and_graph_median_ranges(get_samples_fn, num_simulations, estimated_sample_sizes, rand_seed, dist_name):
    np.random.seed(rand_seed)
    gbl_sample_size_arr = np.array([])
    gbl_sample_maxes = np.array([])
    gbl_sample_mins = np.array([])
    gbl_sample_range_contains_median = np.array([])
    
    for sample_size in estimated_sample_sizes:
        sample_size_arr = np.ones(num_simulations) * sample_size
        sample_maxes = np.empty(num_simulations)
        sample_mins = np.empty(num_simulations)
        sample_range_contains_median = np.empty(num_simulations)
        for i in range(num_simulations):
            curr_samples = get_samples_fn(sample_size)
            curr_max = max(curr_samples)
            curr_min = min(curr_samples)
            curr_contains = curr_max >= median and curr_min <= median
        
            sample_maxes[i] = curr_max
            sample_mins[i] = curr_min
            sample_range_contains_median[i] = curr_contains
        gbl_sample_size_arr = np.append(gbl_sample_size_arr, sample_size_arr)
        gbl_sample_maxes = np.append(gbl_sample_maxes, sample_maxes)
        gbl_sample_mins = np.append(gbl_sample_mins, sample_mins)
        gbl_sample_range_contains_median = np.append(gbl_sample_range_contains_median, sample_range_contains_median)
    
    results_df = pd.DataFrame({
        "sample_size" : gbl_sample_size_arr,
        "sample_max" : gbl_sample_maxes,
        "sample_min" : gbl_sample_mins,
        "sample_range" : gbl_sample_maxes - gbl_sample_mins,
        "median_in_sample_range" : gbl_sample_range_contains_median
    })
    display(results_df)
    
    num_fig_cols = 2
    fig, axs = plt.subplots(len(estimated_sample_sizes) // num_fig_cols, num_fig_cols, figsize=(40, 40))  # width x height in inches
    
    for index, sample_size in enumerate(estimated_sample_sizes):
        successful_ranges = results_df[results_df["sample_size"] == sample_size & results_df["median_in_sample_range"] == True]["sample_range"]
        false_ranges = results_df[results_df["sample_size"] == sample_size & results_df["median_in_sample_range"] == False]["sample_range"]
        
        axs[index // num_fig_cols, index % num_fig_cols].hist([successful_ranges, false_ranges], stacked=True, density=True, bins=num_simulations // 50, label=['Data 1', 'Data 2'], color=['blue', 'red'])
        empirical_prob_contains = np.count_nonzero(results_df[results_df["sample_size"] == sample_size]["median_in_sample_range"]) / num_simulations
        axs[index // num_fig_cols, index % num_fig_cols].tick_params(axis='both', which='major', labelsize=24)
        axs[index // num_fig_cols, index % num_fig_cols].set_title(f"{dist_name}, Sample Size: {str(int(sample_size))}, Prob Contains: {empirical_prob_contains} ({1 - 2/(2**sample_size)})", fontsize=26)
        axs[index // num_fig_cols, index % num_fig_cols].set_xlabel("Width of the Max-Min Range (Standard Deviations)", fontsize=26)
        axs[index // num_fig_cols, index % num_fig_cols].set_ylabel("Density", fontsize=26)
    plt.show()  

simulate_and_graph_median_ranges(get_samples_fn, num_simulations, estimated_sample_sizes, rand_seed, dist_name)





# Set seed
rand_seed = 3141
# Global parameters
num_simulations = 10000 # num sims per sample_size
median = 0
estimated_sample_sizes = range(2, 8)
# Regularize distribution w/ variance=1 and center/mean/median=0
get_samples_fn = lambda n: np.random.uniform(low=-1 * 12 ** 0.5, high=12 ** 0.5, size=n)
dist_name = "Uniform Dist."

simulate_and_graph_median_ranges(get_samples_fn, num_simulations, estimated_sample_sizes, rand_seed, dist_name)



